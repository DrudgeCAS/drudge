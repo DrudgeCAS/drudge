{
 "cells": [
  {
   "attachments": {},
   "cell_type": "markdown",
   "metadata": {},
   "source": [
    "# Automatic derivation of CCSD theory\n",
    "\n",
    "This notebook serves as an example of interactive usage of drudge for complex symbolic manipulations in Jupyter notebooks.  Here we can see how the classical CCSD theory can be derived automatically."
   ]
  },
  {
   "attachments": {},
   "cell_type": "markdown",
   "metadata": {},
   "source": [
    "## Preparatory work\n",
    "\n",
    "First, we need to set up the Spark environment.  Here we just use parallelization on the local machine."
   ]
  },
  {
   "cell_type": "code",
   "execution_count": 1,
   "metadata": {
    "collapsed": true
   },
   "outputs": [],
   "source": [
    "from pyspark import SparkContext\n",
    "ctx = SparkContext('local[*]', 'ccsd')"
   ]
  },
  {
   "attachments": {},
   "cell_type": "markdown",
   "metadata": {},
   "source": [
    "Or we can also use the dummy spark to emulate the Spark environment in a purely serial way.  Note that we need just **one** Spark context.  These two cells should not be both evaluated."
   ]
  },
  {
   "cell_type": "code",
   "execution_count": 1,
   "metadata": {
    "collapsed": true
   },
   "outputs": [],
   "source": [
    "from dummy_spark import SparkContext\n",
    "ctx = SparkContext()"
   ]
  },
  {
   "attachments": {},
   "cell_type": "markdown",
   "metadata": {},
   "source": [
    "With the Spark context, we can construct the drudge specific for this problem.  Then we can define some names that is going to be used frequently."
   ]
  },
  {
   "cell_type": "code",
   "execution_count": 2,
   "metadata": {
    "collapsed": true
   },
   "outputs": [],
   "source": [
    "from sympy import *\n",
    "from drudge import *\n",
    "\n",
    "dr = PartHoleDrudge(ctx)\n",
    "dr.full_simplify = False\n",
    "p = dr.names\n",
    "\n",
    "c_ = p.c_\n",
    "c_dag = p.c_dag\n",
    "a, b = p.V_dumms[:2]\n",
    "i, j = p.O_dumms[:2]"
   ]
  },
  {
   "attachments": {},
   "cell_type": "markdown",
   "metadata": {},
   "source": [
    "## Cluster excitation operator\n",
    "\n",
    "Here, we by using the Einstein summation convention tensor creator, we can just define the cluster operator in a way very similar to how we would writen them down on paper."
   ]
  },
  {
   "cell_type": "code",
   "execution_count": 18,
   "metadata": {
    "collapsed": true
   },
   "outputs": [],
   "source": [
    "t = IndexedBase('t')\n",
    "\n",
    "clusters = dr.einst(\n",
    "    t[a, i] * c_dag[a] * c_[i] +\n",
    "    t[a, b, i, j] * c_dag[a] * c_dag[b] * c_[j] * c_[i] / 4\n",
    ")"
   ]
  },
  {
   "attachments": {},
   "cell_type": "markdown",
   "metadata": {},
   "source": [
    "We can have a peek at the cluster operator."
   ]
  },
  {
   "cell_type": "code",
   "execution_count": 19,
   "metadata": {},
   "outputs": [
    {
     "data": {
      "text/latex": [
       "$\\displaystyle \\sum_{i \\in O} \\sum_{a \\in V} t_{a,i}    c^{\\dagger}_{a} c^{}_{i}  + \\sum_{i \\in O} \\sum_{j \\in O} \\sum_{a \\in V} \\sum_{b \\in V} \\frac{1}{4} t_{a,b,i,j}    c^{\\dagger}_{a} c^{\\dagger}_{b} c^{}_{j} c^{}_{i}$"
      ],
      "text/plain": [
       "<IPython.core.display.Math object>"
      ]
     },
     "execution_count": 19,
     "metadata": {},
     "output_type": "execute_result"
    }
   ],
   "source": [
    "clusters.display()"
   ]
  },
  {
   "attachments": {},
   "cell_type": "markdown",
   "metadata": {},
   "source": [
    "Now we need tell the system about the symmetry of $t^2$, so that it can be used in simplification."
   ]
  },
  {
   "cell_type": "code",
   "execution_count": 20,
   "metadata": {
    "collapsed": true
   },
   "outputs": [
    {
     "data": {
      "text/plain": [
       "<drudge.canonpy.Group at 0x7f935603bcd0>"
      ]
     },
     "execution_count": 20,
     "metadata": {},
     "output_type": "execute_result"
    }
   ],
   "source": [
    "dr.set_symm(\n",
    "    t,\n",
    "    Perm([1, 0, 2, 3], NEG),\n",
    "    Perm([0, 1, 3, 2], NEG),\n",
    "    valence=4\n",
    ")"
   ]
  },
  {
   "attachments": {},
   "cell_type": "markdown",
   "metadata": {
    "collapsed": true
   },
   "source": [
    "## Similarity transform of the Hamiltonian\n",
    "\n",
    "Here we can use a loop to nest the commutation conveniently.  And IPython magic can be used to time the operation.  Note that after the simplification, we explicitly redistribute the terms in the transformed Hamiltonian for better parallel performance in later operations.  Note that `drudge` does not automatically cache the result of tensor computations.  The `cache` method should be called explicitly when a tensor is going to be used multiple times."
   ]
  },
  {
   "cell_type": "code",
   "execution_count": 21,
   "metadata": {},
   "outputs": [
    {
     "name": "stdout",
     "output_type": "stream",
     "text": [
      "CPU times: user 874 ms, sys: 124 ms, total: 998 ms\n",
      "Wall time: 58.5 s\n"
     ]
    },
    {
     "data": {
      "text/plain": [
       "<drudge.drudge.Tensor object at 0x7f935339a890>"
      ]
     },
     "execution_count": 21,
     "metadata": {},
     "output_type": "execute_result"
    }
   ],
   "source": [
    "%%time\n",
    "\n",
    "curr = dr.ham\n",
    "h_bar = dr.ham\n",
    "for order in range(0, 4):\n",
    "    curr = (curr | clusters).simplify() / (order + 1)\n",
    "    curr.cache()\n",
    "    h_bar += curr\n",
    "h_bar.repartition(cache=True)"
   ]
  },
  {
   "attachments": {},
   "cell_type": "markdown",
   "metadata": {
    "collapsed": true
   },
   "source": [
    "The transformed Hamiltonian can be complicated.  Instead of reading its terms, we can just have a peek by get a count of the number of terms it contains."
   ]
  },
  {
   "cell_type": "code",
   "execution_count": 22,
   "metadata": {},
   "outputs": [
    {
     "data": {
      "text/plain": [
       "183"
      ]
     },
     "execution_count": 22,
     "metadata": {},
     "output_type": "execute_result"
    }
   ],
   "source": [
    "h_bar.n_terms"
   ]
  },
  {
   "attachments": {},
   "cell_type": "markdown",
   "metadata": {},
   "source": [
    "## Working equation derivation\n",
    "\n",
    "With the similarity transformed Hamiltonian, we are now ready to derive the actual working equations.  First, the energy equation can be derived by taking the vacuum expectation value of the transformed Hamiltonian."
   ]
  },
  {
   "cell_type": "code",
   "execution_count": 23,
   "metadata": {
    "collapsed": true
   },
   "outputs": [],
   "source": [
    "en_eqn = h_bar.eval_fermi_vev().simplify()"
   ]
  },
  {
   "attachments": {},
   "cell_type": "markdown",
   "metadata": {},
   "source": [
    "We can have a look at its contents to see if it is what we would expect."
   ]
  },
  {
   "cell_type": "code",
   "execution_count": 24,
   "metadata": {},
   "outputs": [
    {
     "data": {
      "text/latex": [
       "$\\displaystyle \\sum_{i \\in O} \\sum_{a \\in V} f_{i,a}  t_{a,i}   + \\sum_{i \\in O} \\sum_{j \\in O} \\sum_{a \\in V} \\sum_{b \\in V} \\frac{1}{4} t_{a,b,i,j}  u_{i,j,a,b}   + \\sum_{i \\in O} \\sum_{j \\in O} \\sum_{a \\in V} \\sum_{b \\in V} \\frac{1}{2} t_{a,i}  t_{b,j}  u_{i,j,a,b} $"
      ],
      "text/plain": [
       "<IPython.core.display.Math object>"
      ]
     },
     "execution_count": 24,
     "metadata": {},
     "output_type": "execute_result"
    }
   ],
   "source": [
    "en_eqn.display()"
   ]
  },
  {
   "attachments": {},
   "cell_type": "markdown",
   "metadata": {},
   "source": [
    "Next, we can create a projector to derive the working equation for the singles amplitude.\n"
   ]
  },
  {
   "cell_type": "code",
   "execution_count": 25,
   "metadata": {
    "collapsed": true
   },
   "outputs": [],
   "source": [
    "proj = c_dag[i] * c_[a]\n",
    "t1_eqn = (proj * h_bar).eval_fermi_vev().simplify()"
   ]
  },
  {
   "attachments": {},
   "cell_type": "markdown",
   "metadata": {},
   "source": [
    "In the same way, we can display its content."
   ]
  },
  {
   "cell_type": "code",
   "execution_count": 26,
   "metadata": {},
   "outputs": [
    {
     "data": {
      "text/latex": [
       "$\\displaystyle \\sum_{j \\in O} \\sum_{k \\in O} \\sum_{b \\in V} \\sum_{c \\in V} t_{c,k}  t_{a,b,i,j}  u_{j,k,b,c}   + \\sum_{j \\in O} \\sum_{k \\in O} \\sum_{b \\in V} \\sum_{c \\in V} \\frac{1}{2} t_{a,k}  t_{b,c,i,j}  u_{j,k,b,c}   + \\sum_{j \\in O} \\sum_{k \\in O} \\sum_{b \\in V} \\sum_{c \\in V} \\frac{1}{2} t_{c,i}  t_{a,b,j,k}  u_{j,k,b,c}  - \\sum_{j \\in O} \\sum_{k \\in O} \\sum_{b \\in V} \\sum_{c \\in V} t_{a,j}  t_{b,i}  t_{c,k}  u_{j,k,b,c}   + \\sum_{j \\in O} \\sum_{b \\in V} f_{j,b}  t_{a,b,i,j}   + \\sum_{j \\in O} \\sum_{b \\in V} t_{b,j}  u_{a,j,i,b}  - \\sum_{j \\in O} \\sum_{b \\in V} f_{j,b}  t_{a,j}  t_{b,i}   + f_{a,i}   + \\sum_{j \\in O} \\sum_{b \\in V} \\sum_{c \\in V} \\frac{1}{2} t_{b,c,i,j}  u_{a,j,b,c}   + \\sum_{j \\in O} \\sum_{b \\in V} \\sum_{c \\in V} t_{b,i}  t_{c,j}  u_{a,j,b,c}  - \\sum_{j \\in O} f_{j,i}  t_{a,j}   + \\sum_{b \\in V} f_{a,b}  t_{b,i}  - \\sum_{j \\in O} \\sum_{k \\in O} \\sum_{b \\in V}  \\frac{1}{2} t_{a,b,j,k}  u_{j,k,i,b}  - \\sum_{j \\in O} \\sum_{k \\in O} \\sum_{b \\in V} t_{a,j}  t_{b,k}  u_{j,k,i,b} $"
      ],
      "text/plain": [
       "<IPython.core.display.Math object>"
      ]
     },
     "execution_count": 26,
     "metadata": {},
     "output_type": "execute_result"
    }
   ],
   "source": [
    "t1_eqn.display()"
   ]
  },
  {
   "attachments": {},
   "cell_type": "markdown",
   "metadata": {},
   "source": [
    "The working equation for the doubles amplitude can be done in the same way, just it can be slower."
   ]
  },
  {
   "cell_type": "code",
   "execution_count": 27,
   "metadata": {},
   "outputs": [
    {
     "name": "stdout",
     "output_type": "stream",
     "text": [
      "CPU times: user 194 ms, sys: 25.5 ms, total: 219 ms\n",
      "Wall time: 52 s\n"
     ]
    }
   ],
   "source": [
    "%%time\n",
    "\n",
    "proj = c_dag[i] * c_dag[j] * c_[b] * c_[a]\n",
    "t2_eqn = (proj * h_bar).eval_fermi_vev().simplify()"
   ]
  },
  {
   "attachments": {},
   "cell_type": "markdown",
   "metadata": {},
   "source": [
    "Since the equation can be slightly complicated, we can vaguely sort the terms in increasing complexity before display them."
   ]
  },
  {
   "cell_type": "code",
   "execution_count": 28,
   "metadata": {},
   "outputs": [
    {
     "data": {
      "text/latex": [
       "$\\displaystyle u_{a,b,i,j}   + \\sum_{k \\in O} t_{a,k}  u_{b,k,i,j}  - \\sum_{k \\in O} f_{k,i}  t_{a,b,k,j}  - \\sum_{k \\in O} f_{k,j}  t_{a,b,i,k}  - \\sum_{k \\in O} t_{b,k}  u_{a,k,i,j}   + \\sum_{c \\in V} f_{b,c}  t_{a,c,i,j}   + \\sum_{c \\in V} t_{c,i}  u_{a,b,c,j}   + \\sum_{c \\in V} t_{c,j}  u_{a,b,i,c}  - \\sum_{c \\in V} f_{a,c}  t_{b,c,i,j}   + \\sum_{k \\in O} \\sum_{l \\in O} \\frac{1}{2} t_{a,b,k,l}  u_{k,l,i,j}   + \\sum_{k \\in O} \\sum_{l \\in O} t_{a,k}  t_{b,l}  u_{k,l,i,j}   + \\sum_{k \\in O} \\sum_{c \\in V} t_{a,c,k,j}  u_{b,k,i,c}   + \\sum_{k \\in O} \\sum_{c \\in V} t_{b,c,i,k}  u_{a,k,c,j}  - \\sum_{k \\in O} \\sum_{c \\in V} t_{a,c,i,k}  u_{b,k,c,j}  - \\sum_{k \\in O} \\sum_{c \\in V} t_{b,c,k,j}  u_{a,k,i,c}   + \\sum_{k \\in O} \\sum_{c \\in V} f_{k,c}  t_{a,k}  t_{b,c,i,j}   + \\sum_{k \\in O} \\sum_{c \\in V} t_{a,k}  t_{c,i}  u_{b,k,c,j}   + \\sum_{k \\in O} \\sum_{c \\in V} t_{a,k}  t_{c,j}  u_{b,k,i,c}  - \\sum_{k \\in O} \\sum_{c \\in V} f_{k,c}  t_{c,j}  t_{a,b,i,k}  - \\sum_{k \\in O} \\sum_{c \\in V} f_{k,c}  t_{c,i}  t_{a,b,k,j}  - \\sum_{k \\in O} \\sum_{c \\in V} f_{k,c}  t_{b,k}  t_{a,c,i,j}  - \\sum_{k \\in O} \\sum_{c \\in V} t_{b,k}  t_{c,i}  u_{a,k,c,j}  - \\sum_{k \\in O} \\sum_{c \\in V} t_{b,k}  t_{c,j}  u_{a,k,i,c}   + \\sum_{c \\in V} \\sum_{d \\in V} \\frac{1}{2} t_{c,d,i,j}  u_{a,b,c,d}   + \\sum_{c \\in V} \\sum_{d \\in V} t_{c,i}  t_{d,j}  u_{a,b,c,d}   + \\sum_{k \\in O} \\sum_{l \\in O} \\sum_{c \\in V} t_{c,l}  t_{a,b,i,k}  u_{k,l,c,j}   + \\sum_{k \\in O} \\sum_{l \\in O} \\sum_{c \\in V} t_{b,l}  t_{a,c,k,j}  u_{k,l,i,c}   + \\sum_{k \\in O} \\sum_{l \\in O} \\sum_{c \\in V} t_{a,l}  t_{b,c,i,k}  u_{k,l,c,j}  - \\sum_{k \\in O} \\sum_{l \\in O} \\sum_{c \\in V} t_{c,l}  t_{a,b,k,j}  u_{k,l,i,c}   + \\sum_{k \\in O} \\sum_{l \\in O} \\sum_{c \\in V} \\frac{1}{2} t_{c,i}  t_{a,b,k,l}  u_{k,l,c,j}   + \\sum_{k \\in O} \\sum_{l \\in O} \\sum_{c \\in V} \\frac{1}{2} t_{c,j}  t_{a,b,k,l}  u_{k,l,i,c}  - \\sum_{k \\in O} \\sum_{l \\in O} \\sum_{c \\in V} t_{b,l}  t_{a,c,i,k}  u_{k,l,c,j}  - \\sum_{k \\in O} \\sum_{l \\in O} \\sum_{c \\in V} t_{a,l}  t_{b,c,k,j}  u_{k,l,i,c}   + \\sum_{k \\in O} \\sum_{l \\in O} \\sum_{c \\in V} t_{a,k}  t_{b,l}  t_{c,i}  u_{k,l,c,j}   + \\sum_{k \\in O} \\sum_{l \\in O} \\sum_{c \\in V} t_{a,k}  t_{b,l}  t_{c,j}  u_{k,l,i,c}   + \\sum_{k \\in O} \\sum_{c \\in V} \\sum_{d \\in V} t_{d,k}  t_{a,c,i,j}  u_{b,k,c,d}   + \\sum_{k \\in O} \\sum_{c \\in V} \\sum_{d \\in V} t_{d,j}  t_{b,c,i,k}  u_{a,k,c,d}   + \\sum_{k \\in O} \\sum_{c \\in V} \\sum_{d \\in V} t_{d,i}  t_{b,c,k,j}  u_{a,k,c,d}  - \\sum_{k \\in O} \\sum_{c \\in V} \\sum_{d \\in V} t_{d,j}  t_{a,c,i,k}  u_{b,k,c,d}  - \\sum_{k \\in O} \\sum_{c \\in V} \\sum_{d \\in V} t_{d,i}  t_{a,c,k,j}  u_{b,k,c,d}   + \\sum_{k \\in O} \\sum_{c \\in V} \\sum_{d \\in V} \\frac{1}{2} t_{a,k}  t_{c,d,i,j}  u_{b,k,c,d}  - \\sum_{k \\in O} \\sum_{c \\in V} \\sum_{d \\in V} t_{d,k}  t_{b,c,i,j}  u_{a,k,c,d}   + \\sum_{k \\in O} \\sum_{c \\in V} \\sum_{d \\in V} t_{a,k}  t_{c,i}  t_{d,j}  u_{b,k,c,d}  - \\sum_{k \\in O} \\sum_{c \\in V} \\sum_{d \\in V}  \\frac{1}{2} t_{b,k}  t_{c,d,i,j}  u_{a,k,c,d}  - \\sum_{k \\in O} \\sum_{c \\in V} \\sum_{d \\in V} t_{b,k}  t_{c,i}  t_{d,j}  u_{a,k,c,d}   + \\sum_{k \\in O} \\sum_{l \\in O} \\sum_{c \\in V} \\sum_{d \\in V} t_{a,c,k,j}  t_{b,d,i,l}  u_{k,l,c,d}   + \\sum_{k \\in O} \\sum_{l \\in O} \\sum_{c \\in V} \\sum_{d \\in V} \\frac{1}{4} t_{a,b,k,l}  t_{c,d,i,j}  u_{k,l,c,d}   + \\sum_{k \\in O} \\sum_{l \\in O} \\sum_{c \\in V} \\sum_{d \\in V} \\frac{1}{2} t_{a,b,l,j}  t_{c,d,i,k}  u_{k,l,c,d}  - \\sum_{k \\in O} \\sum_{l \\in O} \\sum_{c \\in V} \\sum_{d \\in V} t_{a,c,i,k}  t_{b,d,l,j}  u_{k,l,c,d}   + \\sum_{k \\in O} \\sum_{l \\in O} \\sum_{c \\in V} \\sum_{d \\in V} \\frac{1}{2} t_{a,d,i,j}  t_{b,c,k,l}  u_{k,l,c,d}   + \\sum_{k \\in O} \\sum_{l \\in O} \\sum_{c \\in V} \\sum_{d \\in V} t_{c,l}  t_{d,j}  t_{a,b,i,k}  u_{k,l,c,d}   + \\sum_{k \\in O} \\sum_{l \\in O} \\sum_{c \\in V} \\sum_{d \\in V} t_{a,k}  t_{d,l}  t_{b,c,i,j}  u_{k,l,c,d}   + \\sum_{k \\in O} \\sum_{l \\in O} \\sum_{c \\in V} \\sum_{d \\in V} t_{a,l}  t_{d,j}  t_{b,c,i,k}  u_{k,l,c,d}   + \\sum_{k \\in O} \\sum_{l \\in O} \\sum_{c \\in V} \\sum_{d \\in V} t_{a,l}  t_{d,i}  t_{b,c,k,j}  u_{k,l,c,d}  - \\sum_{k \\in O} \\sum_{l \\in O} \\sum_{c \\in V} \\sum_{d \\in V}  \\frac{1}{2} t_{a,b,i,l}  t_{c,d,k,j}  u_{k,l,c,d}  - \\sum_{k \\in O} \\sum_{l \\in O} \\sum_{c \\in V} \\sum_{d \\in V}  \\frac{1}{2} t_{a,c,k,l}  t_{b,d,i,j}  u_{k,l,c,d}  - \\sum_{k \\in O} \\sum_{l \\in O} \\sum_{c \\in V} \\sum_{d \\in V} t_{c,i}  t_{d,l}  t_{a,b,k,j}  u_{k,l,c,d}   + \\sum_{k \\in O} \\sum_{l \\in O} \\sum_{c \\in V} \\sum_{d \\in V} \\frac{1}{2} t_{c,i}  t_{d,j}  t_{a,b,k,l}  u_{k,l,c,d}  - \\sum_{k \\in O} \\sum_{l \\in O} \\sum_{c \\in V} \\sum_{d \\in V} t_{b,k}  t_{d,l}  t_{a,c,i,j}  u_{k,l,c,d}  - \\sum_{k \\in O} \\sum_{l \\in O} \\sum_{c \\in V} \\sum_{d \\in V} t_{b,l}  t_{d,j}  t_{a,c,i,k}  u_{k,l,c,d}  - \\sum_{k \\in O} \\sum_{l \\in O} \\sum_{c \\in V} \\sum_{d \\in V} t_{b,l}  t_{d,i}  t_{a,c,k,j}  u_{k,l,c,d}   + \\sum_{k \\in O} \\sum_{l \\in O} \\sum_{c \\in V} \\sum_{d \\in V} \\frac{1}{2} t_{a,k}  t_{b,l}  t_{c,d,i,j}  u_{k,l,c,d}   + \\sum_{k \\in O} \\sum_{l \\in O} \\sum_{c \\in V} \\sum_{d \\in V} t_{a,k}  t_{b,l}  t_{c,i}  t_{d,j}  u_{k,l,c,d} $"
      ],
      "text/plain": [
       "<IPython.core.display.Math object>"
      ]
     },
     "execution_count": 28,
     "metadata": {},
     "output_type": "execute_result"
    }
   ],
   "source": [
    "t2_eqn = t2_eqn.sort()\n",
    "t2_eqn.display()"
   ]
  },
  {
   "attachments": {},
   "cell_type": "markdown",
   "metadata": {},
   "source": [
    "## Working equation optimization\n",
    "\n",
    "Evaluating the working equation takes a lot of effort.  Outside ``drudge``, a sister package named ``gristmill`` is available for the optimization and automatic code generation for tensor contractions.  To start with, we need to put the working equations into a tensor definitions with external indices and import the ``gristmill`` package."
   ]
  },
  {
   "cell_type": "code",
   "execution_count": 29,
   "metadata": {
    "collapsed": true
   },
   "outputs": [],
   "source": [
    "from gristmill import *\n",
    "\n",
    "r1 = IndexedBase(\"r1\")\n",
    "r2 = IndexedBase(\"r2\")\n",
    "dr.set_symm(\n",
    "    r2,\n",
    "    Perm([1, 0, 2, 3], NEG),\n",
    "    Perm([0, 1, 3, 2], NEG),\n",
    ")\n",
    "\n",
    "working_eqn = [\n",
    "    dr.define(Symbol('e'), en_eqn), \n",
    "    dr.define(r1[a, i], t1_eqn), \n",
    "    dr.define(r2[a, b, i, j], t2_eqn)\n",
    "]"
   ]
  },
  {
   "attachments": {},
   "cell_type": "markdown",
   "metadata": {},
   "source": [
    "We can have an estimation of the FLOP cost without any optimization."
   ]
  },
  {
   "cell_type": "code",
   "execution_count": 30,
   "metadata": {},
   "outputs": [
    {
     "data": {
      "image/png": "[encoded data removed]",
      "text/latex": [
       "$\\displaystyle 66 no^{4} nv^{4}$"
      ],
      "text/plain": [
       "     4   4\n",
       "66⋅no ⋅nv "
      ]
     },
     "execution_count": 30,
     "metadata": {},
     "output_type": "execute_result"
    }
   ],
   "source": [
    "orig_cost = get_flop_cost(working_eqn, leading=True)\n",
    "init_printing()\n",
    "orig_cost"
   ]
  },
  {
   "attachments": {},
   "cell_type": "markdown",
   "metadata": {},
   "source": [
    "Since normally we have far more virtual orbitals than occupied orbitals, we have make the optimization based on this."
   ]
  },
  {
   "cell_type": "code",
   "execution_count": 31,
   "metadata": {},
   "outputs": [
    {
     "name": "stdout",
     "output_type": "stream",
     "text": [
      "CPU times: user 13.3 s, sys: 647 ms, total: 14 s\n",
      "Wall time: 37.6 s\n"
     ]
    }
   ],
   "source": [
    "%%time\n",
    "\n",
    "eval_seq = optimize(\n",
    "    working_eqn, substs={p.nv: 5000, p.no: 1000}, \n",
    "    contr_strat=ContrStrat.EXHAUST\n",
    ")"
   ]
  },
  {
   "attachments": {},
   "cell_type": "markdown",
   "metadata": {},
   "source": [
    "Now we can have some inspection of the evaluation sequence."
   ]
  },
  {
   "cell_type": "code",
   "execution_count": 32,
   "metadata": {},
   "outputs": [
    {
     "data": {
      "image/png": "[encoded data removed]",
      "text/latex": [
       "$\\displaystyle 38$"
      ],
      "text/plain": [
       "38"
      ]
     },
     "execution_count": 32,
     "metadata": {},
     "output_type": "execute_result"
    }
   ],
   "source": [
    "len(eval_seq)"
   ]
  },
  {
   "cell_type": "code",
   "execution_count": 33,
   "metadata": {},
   "outputs": [
    {
     "data": {
      "image/png": "[encoded data removed]",
      "text/latex": [
       "$\\displaystyle 6 no^{4} nv^{2} + 8 no^{3} nv^{3} + 2 no^{2} nv^{4}$"
      ],
      "text/plain": [
       "    4   2       3   3       2   4\n",
       "6⋅no ⋅nv  + 8⋅no ⋅nv  + 2⋅no ⋅nv "
      ]
     },
     "execution_count": 33,
     "metadata": {},
     "output_type": "execute_result"
    }
   ],
   "source": [
    "opt_cost = get_flop_cost(eval_seq, leading=True)\n",
    "opt_cost"
   ]
  },
  {
   "attachments": {},
   "cell_type": "markdown",
   "metadata": {},
   "source": [
    "Significant optimization can be seen.  Finally we can verify the correctness of the evaluation sequence.  This step can be very slow.  But it is adviced for mission-critical tasks."
   ]
  },
  {
   "cell_type": "code",
   "execution_count": 34,
   "metadata": {},
   "outputs": [
    {
     "data": {
      "text/plain": [
       "True"
      ]
     },
     "execution_count": 34,
     "metadata": {},
     "output_type": "execute_result"
    }
   ],
   "source": [
    "verify_eval_seq(eval_seq, working_eqn, simplify=True)"
   ]
  },
  {
   "attachments": {},
   "cell_type": "markdown",
   "metadata": {
    "collapsed": true
   },
   "source": [
    "Finally, we have have a peek at the details of the intermediates."
   ]
  },
  {
   "cell_type": "code",
   "execution_count": 35,
   "metadata": {},
   "outputs": [
    {
     "data": {
      "text/latex": [
       "$\\displaystyle \\tau^{0}_{i,j,a,b} = t_{b,a,j,i}   + 2 t_{a,i}  t_{b,j} $"
      ],
      "text/plain": [
       "<IPython.core.display.Math object>"
      ]
     },
     "metadata": {},
     "output_type": "display_data"
    },
    {
     "data": {
      "text/latex": [
       "$\\displaystyle \\tau^{1}_{i,j,k,a} = \\sum_{b \\in V} t_{b,i}  u_{j,k,a,b} $"
      ],
      "text/plain": [
       "<IPython.core.display.Math object>"
      ]
     },
     "metadata": {},
     "output_type": "display_data"
    },
    {
     "data": {
      "text/latex": [
       "$\\displaystyle \\tau^{2}_{i,j,k,a} = u_{k,j,i,a}  - \\tau^{1}_{i,k,j,a} $"
      ],
      "text/plain": [
       "<IPython.core.display.Math object>"
      ]
     },
     "metadata": {},
     "output_type": "display_data"
    },
    {
     "data": {
      "text/latex": [
       "$\\displaystyle \\tau^{3}_{i,a} = f_{i,a}   + \\sum_{j \\in O} \\sum_{b \\in V} t_{b,j}  u_{i,j,a,b} $"
      ],
      "text/plain": [
       "<IPython.core.display.Math object>"
      ]
     },
     "metadata": {},
     "output_type": "display_data"
    },
    {
     "data": {
      "text/latex": [
       "$\\displaystyle \\tau^{4}_{i,j} = \\sum_{a \\in V} f_{i,a}  t_{a,j} $"
      ],
      "text/plain": [
       "<IPython.core.display.Math object>"
      ]
     },
     "metadata": {},
     "output_type": "display_data"
    },
    {
     "data": {
      "text/latex": [
       "$\\displaystyle \\tau^{5}_{i,j} = - \\sum_{k \\in O} \\sum_{a \\in V} t_{a,k}  u_{k,i,j,a} $"
      ],
      "text/plain": [
       "<IPython.core.display.Math object>"
      ]
     },
     "metadata": {},
     "output_type": "display_data"
    },
    {
     "data": {
      "text/latex": [
       "$\\displaystyle \\tau^{6}_{i,j} = \\sum_{k \\in O} \\sum_{a \\in V} \\sum_{b \\in V} \\tau^{0}_{k,j,a,b}  u_{k,i,a,b} $"
      ],
      "text/plain": [
       "<IPython.core.display.Math object>"
      ]
     },
     "metadata": {},
     "output_type": "display_data"
    },
    {
     "data": {
      "text/latex": [
       "$\\displaystyle \\tau^{7}_{i,j} = 2 f_{i,j}   + 2 \\tau^{4}_{i,j}   + 2 \\tau^{5}_{i,j}   + \\tau^{6}_{i,j} $"
      ],
      "text/plain": [
       "<IPython.core.display.Math object>"
      ]
     },
     "metadata": {},
     "output_type": "display_data"
    },
    {
     "data": {
      "text/latex": [
       "$\\displaystyle \\tau^{8}_{i,j,k,a} = \\sum_{b \\in V} t_{b,i}  u_{j,a,k,b} $"
      ],
      "text/plain": [
       "<IPython.core.display.Math object>"
      ]
     },
     "metadata": {},
     "output_type": "display_data"
    },
    {
     "data": {
      "text/latex": [
       "$\\displaystyle \\tau^{9}_{i,j,a,b} = \\sum_{k \\in O} t_{a,k}  \\tau^{8}_{i,k,j,b} $"
      ],
      "text/plain": [
       "<IPython.core.display.Math object>"
      ]
     },
     "metadata": {},
     "output_type": "display_data"
    },
    {
     "data": {
      "text/latex": [
       "$\\displaystyle \\tau^{10}_{i,j,a,b} = \\sum_{c \\in V} t_{c,i}  u_{j,a,b,c} $"
      ],
      "text/plain": [
       "<IPython.core.display.Math object>"
      ]
     },
     "metadata": {},
     "output_type": "display_data"
    },
    {
     "data": {
      "text/latex": [
       "$\\displaystyle \\tau^{11}_{i,j,a,b} = \\sum_{k \\in O} t_{a,k}  \\tau^{2}_{i,k,j,b} $"
      ],
      "text/plain": [
       "<IPython.core.display.Math object>"
      ]
     },
     "metadata": {},
     "output_type": "display_data"
    },
    {
     "data": {
      "text/latex": [
       "$\\displaystyle \\tau^{12}_{i,j,a,b} = u_{j,a,i,b}  - \\tau^{10}_{i,j,a,b}  - \\tau^{11}_{i,j,a,b} $"
      ],
      "text/plain": [
       "<IPython.core.display.Math object>"
      ]
     },
     "metadata": {},
     "output_type": "display_data"
    },
    {
     "data": {
      "text/latex": [
       "$\\displaystyle \\tau^{13}_{i,j,a,b} = \\sum_{k \\in O} \\sum_{c \\in V} t_{c,b,k,j}  \\tau^{12}_{i,k,a,c} $"
      ],
      "text/plain": [
       "<IPython.core.display.Math object>"
      ]
     },
     "metadata": {},
     "output_type": "display_data"
    },
    {
     "data": {
      "text/latex": [
       "$\\displaystyle \\tau^{14}_{i,j,a,b} = \\tau^{9}_{i,j,a,b}  - \\tau^{13}_{j,i,b,a} $"
      ],
      "text/plain": [
       "<IPython.core.display.Math object>"
      ]
     },
     "metadata": {},
     "output_type": "display_data"
    },
    {
     "data": {
      "text/latex": [
       "$\\displaystyle \\tau^{15}_{i,j,a,b} = \\sum_{c \\in V} f_{a,c}  t_{b,c,i,j} $"
      ],
      "text/plain": [
       "<IPython.core.display.Math object>"
      ]
     },
     "metadata": {},
     "output_type": "display_data"
    },
    {
     "data": {
      "text/latex": [
       "$\\displaystyle \\tau^{16}_{i,j,a,b} = \\sum_{c \\in V} \\sum_{k \\in O} t_{a,c,i,k}  u_{k,j,c,b} $"
      ],
      "text/plain": [
       "<IPython.core.display.Math object>"
      ]
     },
     "metadata": {},
     "output_type": "display_data"
    },
    {
     "data": {
      "text/latex": [
       "$\\displaystyle \\tau^{17}_{i,j,a,b} = \\sum_{k \\in O} \\sum_{c \\in V} t_{b,c,j,k}  \\tau^{16}_{i,k,a,c} $"
      ],
      "text/plain": [
       "<IPython.core.display.Math object>"
      ]
     },
     "metadata": {},
     "output_type": "display_data"
    },
    {
     "data": {
      "text/latex": [
       "$\\displaystyle \\tau^{18}_{a,b} = \\sum_{i \\in O} f_{i,a}  t_{b,i} $"
      ],
      "text/plain": [
       "<IPython.core.display.Math object>"
      ]
     },
     "metadata": {},
     "output_type": "display_data"
    },
    {
     "data": {
      "text/latex": [
       "$\\displaystyle \\tau^{19}_{a,b} = - \\sum_{i \\in O} \\sum_{c \\in V} t_{c,i}  u_{i,a,c,b} $"
      ],
      "text/plain": [
       "<IPython.core.display.Math object>"
      ]
     },
     "metadata": {},
     "output_type": "display_data"
    },
    {
     "data": {
      "text/latex": [
       "$\\displaystyle \\tau^{20}_{a,b} = \\sum_{i \\in O} \\sum_{j \\in O} \\sum_{c \\in V} \\tau^{0}_{i,j,c,b}  u_{i,j,c,a} $"
      ],
      "text/plain": [
       "<IPython.core.display.Math object>"
      ]
     },
     "metadata": {},
     "output_type": "display_data"
    },
    {
     "data": {
      "text/latex": [
       "$\\displaystyle \\tau^{21}_{a,b} = 2 \\tau^{18}_{b,a}   + 2 \\tau^{19}_{a,b}   + \\tau^{20}_{b,a} $"
      ],
      "text/plain": [
       "<IPython.core.display.Math object>"
      ]
     },
     "metadata": {},
     "output_type": "display_data"
    },
    {
     "data": {
      "text/latex": [
       "$\\displaystyle \\tau^{22}_{i,j,a,b} = \\sum_{c \\in V} \\tau^{21}_{a,c}  t_{c,b,i,j} $"
      ],
      "text/plain": [
       "<IPython.core.display.Math object>"
      ]
     },
     "metadata": {},
     "output_type": "display_data"
    },
    {
     "data": {
      "text/latex": [
       "$\\displaystyle \\tau^{23}_{i,j,k,a} = \\sum_{b \\in V} \\sum_{c \\in V} \\tau^{0}_{i,j,b,c}  u_{k,a,b,c} $"
      ],
      "text/plain": [
       "<IPython.core.display.Math object>"
      ]
     },
     "metadata": {},
     "output_type": "display_data"
    },
    {
     "data": {
      "text/latex": [
       "$\\displaystyle \\tau^{24}_{i,j,k,a} = - 2 u_{k,a,j,i}  - \\tau^{23}_{j,i,k,a} $"
      ],
      "text/plain": [
       "<IPython.core.display.Math object>"
      ]
     },
     "metadata": {},
     "output_type": "display_data"
    },
    {
     "data": {
      "text/latex": [
       "$\\displaystyle \\tau^{25}_{i,j,a,b} = \\sum_{k \\in O} t_{b,k}  \\tau^{24}_{i,j,k,a} $"
      ],
      "text/plain": [
       "<IPython.core.display.Math object>"
      ]
     },
     "metadata": {},
     "output_type": "display_data"
    },
    {
     "data": {
      "text/latex": [
       "$\\displaystyle \\tau^{26}_{i,j,a,b} = - 2 \\tau^{15}_{j,i,a,b}   + 2 \\tau^{17}_{j,i,a,b}   + \\tau^{22}_{j,i,b,a}  - \\tau^{25}_{j,i,b,a} $"
      ],
      "text/plain": [
       "<IPython.core.display.Math object>"
      ]
     },
     "metadata": {},
     "output_type": "display_data"
    },
    {
     "data": {
      "text/latex": [
       "$\\displaystyle \\tau^{27}_{i,j,a,b} = \\sum_{k \\in O} f_{k,i}  t_{a,b,j,k} $"
      ],
      "text/plain": [
       "<IPython.core.display.Math object>"
      ]
     },
     "metadata": {},
     "output_type": "display_data"
    },
    {
     "data": {
      "text/latex": [
       "$\\displaystyle \\tau^{28}_{i,j,a,b} = \\sum_{c \\in V} t_{c,i}  u_{a,b,j,c} $"
      ],
      "text/plain": [
       "<IPython.core.display.Math object>"
      ]
     },
     "metadata": {},
     "output_type": "display_data"
    },
    {
     "data": {
      "text/latex": [
       "$\\displaystyle \\tau^{29}_{i,j} = 2 \\tau^{4}_{i,j}   + 2 \\tau^{5}_{i,j}   + \\tau^{6}_{i,j} $"
      ],
      "text/plain": [
       "<IPython.core.display.Math object>"
      ]
     },
     "metadata": {},
     "output_type": "display_data"
    },
    {
     "data": {
      "text/latex": [
       "$\\displaystyle \\tau^{30}_{i,j,a,b} = \\sum_{k \\in O} \\tau^{29}_{k,i}  t_{a,b,k,j} $"
      ],
      "text/plain": [
       "<IPython.core.display.Math object>"
      ]
     },
     "metadata": {},
     "output_type": "display_data"
    },
    {
     "data": {
      "text/latex": [
       "$\\displaystyle \\tau^{31}_{i,j,k,l} = \\sum_{a \\in V} t_{a,i}  u_{j,k,l,a} $"
      ],
      "text/plain": [
       "<IPython.core.display.Math object>"
      ]
     },
     "metadata": {},
     "output_type": "display_data"
    },
    {
     "data": {
      "text/latex": [
       "$\\displaystyle \\tau^{32}_{i,j,a,b} = \\sum_{k \\in O} \\sum_{l \\in O} \\tau^{0}_{k,l,a,b}  \\tau^{31}_{i,k,l,j} $"
      ],
      "text/plain": [
       "<IPython.core.display.Math object>"
      ]
     },
     "metadata": {},
     "output_type": "display_data"
    },
    {
     "data": {
      "text/latex": [
       "$\\displaystyle \\tau^{33}_{i,j,a,b} = 2 \\tau^{27}_{i,j,b,a}  - 2 \\tau^{28}_{i,j,b,a}   + \\tau^{30}_{j,i,b,a}  - \\tau^{32}_{i,j,b,a} $"
      ],
      "text/plain": [
       "<IPython.core.display.Math object>"
      ]
     },
     "metadata": {},
     "output_type": "display_data"
    },
    {
     "data": {
      "text/latex": [
       "$\\displaystyle \\tau^{34}_{i,j,k,l} = 2 u_{j,i,l,k}   + \\sum_{a \\in V} \\sum_{b \\in V} \\tau^{0}_{l,k,a,b}  u_{j,i,a,b} $"
      ],
      "text/plain": [
       "<IPython.core.display.Math object>"
      ]
     },
     "metadata": {},
     "output_type": "display_data"
    },
    {
     "data": {
      "text/latex": [
       "$\\displaystyle e = \\sum_{i \\in O} \\sum_{a \\in V} f_{i,a}  t_{a,i}   + \\sum_{i \\in O} \\sum_{j \\in O} \\sum_{a \\in V} \\sum_{b \\in V} \\frac{1}{4} \\tau^{0}_{i,j,a,b}  u_{i,j,a,b} $"
      ],
      "text/plain": [
       "<IPython.core.display.Math object>"
      ]
     },
     "metadata": {},
     "output_type": "display_data"
    },
    {
     "data": {
      "text/latex": [
       "$\\displaystyle r^{(1)}_{a,i} = - \\sum_{j \\in O} \\sum_{b \\in V} t_{b,j}  u_{j,a,i,b}   + f_{a,i}   + \\sum_{b \\in V} f_{a,b}  t_{b,i}  - \\sum_{j \\in O} \\sum_{k \\in O} \\sum_{b \\in V}  \\frac{1}{2} t_{b,a,j,k}  \\tau^{2}_{i,j,k,b}   + \\sum_{j \\in O} \\sum_{b \\in V} \\sum_{c \\in V} \\frac{1}{2} \\tau^{0}_{j,i,b,c}  u_{j,a,b,c}   + \\sum_{j \\in O} \\sum_{b \\in V} \\tau^{3}_{j,b}  t_{b,a,j,i}  - \\sum_{j \\in O}  \\frac{1}{2} t_{a,j}  \\tau^{7}_{j,i} $"
      ],
      "text/plain": [
       "<IPython.core.display.Math object>"
      ]
     },
     "metadata": {},
     "output_type": "display_data"
    },
    {
     "data": {
      "text/latex": [
       "$\\displaystyle r^{(2)}_{a,b,i,j} = u_{b,a,j,i}   + \\tau^{14}_{i,j,a,b}  - \\tau^{14}_{i,j,b,a}  - \\tau^{14}_{j,i,a,b}   + \\tau^{14}_{j,i,b,a}  -  \\frac{1}{2} \\tau^{26}_{i,j,a,b}   + \\frac{1}{2} \\tau^{26}_{i,j,b,a}  -  \\frac{1}{2} \\tau^{33}_{i,j,a,b}   + \\frac{1}{2} \\tau^{33}_{j,i,a,b}   + \\sum_{k \\in O} \\sum_{l \\in O} \\frac{1}{4} \\tau^{0}_{k,l,b,a}  \\tau^{34}_{k,l,j,i}   + \\sum_{c \\in V} \\sum_{d \\in V} \\frac{1}{2} \\tau^{0}_{j,i,c,d}  u_{b,a,c,d} $"
      ],
      "text/plain": [
       "<IPython.core.display.Math object>"
      ]
     },
     "metadata": {},
     "output_type": "display_data"
    }
   ],
   "source": [
    "for eqn in eval_seq:\n",
    "    eqn.display(False)"
   ]
  },
  {
   "cell_type": "code",
   "execution_count": null,
   "metadata": {},
   "outputs": [],
   "source": []
  }
 ],
 "metadata": {
  "kernelspec": {
   "display_name": "Python 3",
   "language": "python",
   "name": "python3"
  },
  "language_info": {
   "codemirror_mode": {
    "name": "ipython",
    "version": 3
   },
   "file_extension": ".py",
   "mimetype": "text/x-python",
   "name": "python",
   "nbconvert_exporter": "python",
   "pygments_lexer": "ipython3",
   "version": "3.7.7"
  }
 },
 "nbformat": 4,
 "nbformat_minor": 2
}
