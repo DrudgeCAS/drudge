{
 "cells": [
  {
   "cell_type": "code",
   "execution_count": 1,
   "metadata": {},
   "outputs": [],
   "source": [
    "from pyspark import SparkContext\n",
    "ctx = SparkContext('local[*]','su4_lipkin')"
   ]
  },
  {
   "cell_type": "code",
   "execution_count": 2,
   "metadata": {},
   "outputs": [],
   "source": [
    "from su4 import *\n",
    "from sympy import *\n",
    "from drudge import *"
   ]
  },
  {
   "cell_type": "code",
   "execution_count": 3,
   "metadata": {},
   "outputs": [],
   "source": [
    "#creating the drudge instance for SU4 Lattice\n",
    "dr = SU4LatticeDrudge(ctx)\n",
    "p = dr.names"
   ]
  },
  {
   "cell_type": "code",
   "execution_count": 4,
   "metadata": {},
   "outputs": [],
   "source": [
    "#All the SU4 OPERATORS - written as tensors\n",
    "jp = dr.sum(p.J_p)\n",
    "jz = dr.sum(p.J_)\n",
    "jm = dr.sum(p.J_m)\n",
    "\n",
    "kp = dr.sum(p.K_p)\n",
    "kz = dr.sum(p.K_)\n",
    "km = dr.sum(p.K_m)\n",
    "\n",
    "ypp = dr.sum(p.Y_pp)\n",
    "ymm = dr.sum(p.Y_mm)\n",
    "yzz = dr.sum(p.Y_zz)\n",
    "\n",
    "ypm = dr.sum(p.Y_pm)\n",
    "ymp = dr.sum(p.Y_mp)\n",
    "ypz = dr.sum(p.Y_pz)\n",
    "yzp = dr.sum(p.Y_zp)\n",
    "ymz = dr.sum(p.Y_mz)\n",
    "yzm = dr.sum(p.Y_zm)"
   ]
  },
  {
   "cell_type": "code",
   "execution_count": 5,
   "metadata": {},
   "outputs": [],
   "source": [
    "#Some examples of commutator\n",
    "c1 = (ypp | ymm).simplify()\n",
    "c2 = (kz | kp*kp).simplify()\n",
    "c3 = (kz | kp).simplify()"
   ]
  },
  {
   "cell_type": "code",
   "execution_count": 6,
   "metadata": {},
   "outputs": [
    {
     "data": {
      "text/latex": [
       "$$\\mathbf{J^z}_{}  + \\mathbf{K^z}_{}$$"
      ],
      "text/plain": [
       "<IPython.core.display.Math object>"
      ]
     },
     "execution_count": 6,
     "metadata": {},
     "output_type": "execute_result"
    }
   ],
   "source": [
    "c1.display()"
   ]
  },
  {
   "cell_type": "code",
   "execution_count": 7,
   "metadata": {},
   "outputs": [
    {
     "data": {
      "text/latex": [
       "$$2 \\mathbf{K^+}_{} \\otimes \\mathbf{K^+}_{}$$"
      ],
      "text/plain": [
       "<IPython.core.display.Math object>"
      ]
     },
     "execution_count": 7,
     "metadata": {},
     "output_type": "execute_result"
    }
   ],
   "source": [
    "c2.display()"
   ]
  },
  {
   "cell_type": "code",
   "execution_count": 8,
   "metadata": {},
   "outputs": [
    {
     "data": {
      "text/latex": [
       "$$\\mathbf{K^+}_{}$$"
      ],
      "text/plain": [
       "<IPython.core.display.Math object>"
      ]
     },
     "execution_count": 8,
     "metadata": {},
     "output_type": "execute_result"
    }
   ],
   "source": [
    "c3.display()"
   ]
  },
  {
   "cell_type": "code",
   "execution_count": 9,
   "metadata": {},
   "outputs": [
    {
     "data": {
      "text/latex": [
       "$$u^{2} x \\mathbf{J^z}_{} -  v^{2} x \\mathbf{K^z}_{}  + u v x \\mathbf{Y^{++}}_{}  + u v x \\mathbf{Y^{--}}_{} -  \\frac{u^{2}}{n} \\left(- x + 1\\right) \\mathbf{J^+}_{} \\otimes \\mathbf{J^+}_{} -  \\frac{u^{2}}{n} \\left(- x + 1\\right) \\mathbf{J^-}_{} \\otimes \\mathbf{J^-}_{} -  \\frac{4 v^{2}}{n} \\left(- x + 1\\right) \\mathbf{Y^{z-}}_{} \\otimes \\mathbf{Y^{z-}}_{} -  \\frac{4 v^{2}}{n} \\left(- x + 1\\right) \\mathbf{Y^{z+}}_{} \\otimes \\mathbf{Y^{z+}}_{}  + \\frac{2 u}{n} v \\left(- x + 1\\right) \\mathbf{J^+}_{} \\otimes \\mathbf{Y^{z-}}_{}  + \\frac{2 u}{n} v \\left(- x + 1\\right) \\mathbf{Y^{z-}}_{} \\otimes \\mathbf{J^+}_{}  + \\frac{2 u}{n} v \\left(- x + 1\\right) \\mathbf{J^-}_{} \\otimes \\mathbf{Y^{z+}}_{}  + \\frac{2 u}{n} v \\left(- x + 1\\right) \\mathbf{Y^{z+}}_{} \\otimes \\mathbf{J^-}_{}$$"
      ],
      "text/plain": [
       "<IPython.core.display.Math object>"
      ]
     },
     "execution_count": 9,
     "metadata": {},
     "output_type": "execute_result"
    }
   ],
   "source": [
    "#RHF Lipkin Hamiltonian written in terms of thermal bogoliubov transformed operators\n",
    "x = Symbol('x')\n",
    "n = Symbol('n')\n",
    "u = Symbol('u')\n",
    "v = Symbol('v')\n",
    "\n",
    "ham = x*(u**2*jz - v**2*kz) + (x*u*v)*(ypp + ymm) - ((1-x)/n)*(u**2 * (jp*jp + jm*jm) + 4*v*v*(yzm*yzm + yzp*yzp) - 2*u*v*(jp*yzm + yzm*jp + jm*yzp + yzp*jm))\n",
    "ham.display()"
   ]
  },
  {
   "cell_type": "code",
   "execution_count": 10,
   "metadata": {
    "scrolled": true
   },
   "outputs": [
    {
     "data": {
      "text/latex": [
       "$$-  \\frac{n x}{2} u^{2}   + \\frac{n x}{2} v^{2} $$"
      ],
      "text/plain": [
       "<IPython.core.display.Math object>"
      ]
     },
     "execution_count": 10,
     "metadata": {},
     "output_type": "execute_result"
    }
   ],
   "source": [
    "#Hartree Fock expectation of the Thermal Bogoliubov transformed hamiltonian\n",
    "ehf = dr.eval_exp(ham,n)\n",
    "ehf.display()"
   ]
  }
 ],
 "metadata": {
  "kernelspec": {
   "display_name": "Python 3",
   "language": "python",
   "name": "python3"
  },
  "language_info": {
   "codemirror_mode": {
    "name": "ipython",
    "version": 3
   },
   "file_extension": ".py",
   "mimetype": "text/x-python",
   "name": "python",
   "nbconvert_exporter": "python",
   "pygments_lexer": "ipython3",
   "version": "3.6.2"
  }
 },
 "nbformat": 4,
 "nbformat_minor": 2
}
